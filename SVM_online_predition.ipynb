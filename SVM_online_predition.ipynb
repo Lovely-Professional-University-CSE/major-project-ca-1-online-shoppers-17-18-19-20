{
 "cells": [
  {
   "cell_type": "code",
   "execution_count": 141,
   "metadata": {},
   "outputs": [],
   "source": [
    "import numpy as np\n",
    "import pandas as pd\n",
    "import matplotlib.pyplot as plt\n",
    "import seaborn as sns \n",
    "from sklearn.model_selection import train_test_split\n",
    "from sklearn.linear_model import LogisticRegression\n"
   ]
  },
  {
   "cell_type": "code",
   "execution_count": 189,
   "metadata": {},
   "outputs": [
    {
     "data": {
      "text/html": [
       "<div>\n",
       "<style scoped>\n",
       "    .dataframe tbody tr th:only-of-type {\n",
       "        vertical-align: middle;\n",
       "    }\n",
       "\n",
       "    .dataframe tbody tr th {\n",
       "        vertical-align: top;\n",
       "    }\n",
       "\n",
       "    .dataframe thead th {\n",
       "        text-align: right;\n",
       "    }\n",
       "</style>\n",
       "<table border=\"1\" class=\"dataframe\">\n",
       "  <thead>\n",
       "    <tr style=\"text-align: right;\">\n",
       "      <th></th>\n",
       "      <th>Administrative</th>\n",
       "      <th>Administrative_Duration</th>\n",
       "      <th>Informational</th>\n",
       "      <th>Informational_Duration</th>\n",
       "      <th>ProductRelated</th>\n",
       "      <th>ProductRelated_Duration</th>\n",
       "      <th>BounceRates</th>\n",
       "      <th>ExitRates</th>\n",
       "      <th>PageValues</th>\n",
       "      <th>SpecialDay</th>\n",
       "      <th>OperatingSystems</th>\n",
       "      <th>Browser</th>\n",
       "      <th>Region</th>\n",
       "      <th>TrafficType</th>\n",
       "      <th>Weekend</th>\n",
       "      <th>Revenue</th>\n",
       "    </tr>\n",
       "  </thead>\n",
       "  <tbody>\n",
       "    <tr>\n",
       "      <th>0</th>\n",
       "      <td>0</td>\n",
       "      <td>0.0</td>\n",
       "      <td>0</td>\n",
       "      <td>0.0</td>\n",
       "      <td>1</td>\n",
       "      <td>0.000000</td>\n",
       "      <td>0.20</td>\n",
       "      <td>0.20</td>\n",
       "      <td>0.0</td>\n",
       "      <td>0.0</td>\n",
       "      <td>1</td>\n",
       "      <td>1</td>\n",
       "      <td>1</td>\n",
       "      <td>1</td>\n",
       "      <td>False</td>\n",
       "      <td>False</td>\n",
       "    </tr>\n",
       "    <tr>\n",
       "      <th>1</th>\n",
       "      <td>0</td>\n",
       "      <td>0.0</td>\n",
       "      <td>0</td>\n",
       "      <td>0.0</td>\n",
       "      <td>2</td>\n",
       "      <td>64.000000</td>\n",
       "      <td>0.00</td>\n",
       "      <td>0.10</td>\n",
       "      <td>0.0</td>\n",
       "      <td>0.0</td>\n",
       "      <td>2</td>\n",
       "      <td>2</td>\n",
       "      <td>1</td>\n",
       "      <td>2</td>\n",
       "      <td>False</td>\n",
       "      <td>False</td>\n",
       "    </tr>\n",
       "    <tr>\n",
       "      <th>2</th>\n",
       "      <td>0</td>\n",
       "      <td>0.0</td>\n",
       "      <td>0</td>\n",
       "      <td>0.0</td>\n",
       "      <td>1</td>\n",
       "      <td>0.000000</td>\n",
       "      <td>0.20</td>\n",
       "      <td>0.20</td>\n",
       "      <td>0.0</td>\n",
       "      <td>0.0</td>\n",
       "      <td>4</td>\n",
       "      <td>1</td>\n",
       "      <td>9</td>\n",
       "      <td>3</td>\n",
       "      <td>False</td>\n",
       "      <td>False</td>\n",
       "    </tr>\n",
       "    <tr>\n",
       "      <th>3</th>\n",
       "      <td>0</td>\n",
       "      <td>0.0</td>\n",
       "      <td>0</td>\n",
       "      <td>0.0</td>\n",
       "      <td>2</td>\n",
       "      <td>2.666667</td>\n",
       "      <td>0.05</td>\n",
       "      <td>0.14</td>\n",
       "      <td>0.0</td>\n",
       "      <td>0.0</td>\n",
       "      <td>3</td>\n",
       "      <td>2</td>\n",
       "      <td>2</td>\n",
       "      <td>4</td>\n",
       "      <td>False</td>\n",
       "      <td>False</td>\n",
       "    </tr>\n",
       "    <tr>\n",
       "      <th>4</th>\n",
       "      <td>0</td>\n",
       "      <td>0.0</td>\n",
       "      <td>0</td>\n",
       "      <td>0.0</td>\n",
       "      <td>10</td>\n",
       "      <td>627.500000</td>\n",
       "      <td>0.02</td>\n",
       "      <td>0.05</td>\n",
       "      <td>0.0</td>\n",
       "      <td>0.0</td>\n",
       "      <td>3</td>\n",
       "      <td>3</td>\n",
       "      <td>1</td>\n",
       "      <td>4</td>\n",
       "      <td>True</td>\n",
       "      <td>False</td>\n",
       "    </tr>\n",
       "  </tbody>\n",
       "</table>\n",
       "</div>"
      ],
      "text/plain": [
       "   Administrative  Administrative_Duration  Informational  \\\n",
       "0               0                      0.0              0   \n",
       "1               0                      0.0              0   \n",
       "2               0                      0.0              0   \n",
       "3               0                      0.0              0   \n",
       "4               0                      0.0              0   \n",
       "\n",
       "   Informational_Duration  ProductRelated  ProductRelated_Duration  \\\n",
       "0                     0.0               1                 0.000000   \n",
       "1                     0.0               2                64.000000   \n",
       "2                     0.0               1                 0.000000   \n",
       "3                     0.0               2                 2.666667   \n",
       "4                     0.0              10               627.500000   \n",
       "\n",
       "   BounceRates  ExitRates  PageValues  SpecialDay  OperatingSystems  Browser  \\\n",
       "0         0.20       0.20         0.0         0.0                 1        1   \n",
       "1         0.00       0.10         0.0         0.0                 2        2   \n",
       "2         0.20       0.20         0.0         0.0                 4        1   \n",
       "3         0.05       0.14         0.0         0.0                 3        2   \n",
       "4         0.02       0.05         0.0         0.0                 3        3   \n",
       "\n",
       "   Region  TrafficType  Weekend  Revenue  \n",
       "0       1            1    False    False  \n",
       "1       1            2    False    False  \n",
       "2       9            3    False    False  \n",
       "3       2            4    False    False  \n",
       "4       1            4     True    False  "
      ]
     },
     "execution_count": 189,
     "metadata": {},
     "output_type": "execute_result"
    }
   ],
   "source": [
    "dt=pd.read_csv('online_shoppers_intention.csv')\n",
    "dt.head()"
   ]
  },
  {
   "cell_type": "code",
   "execution_count": 190,
   "metadata": {},
   "outputs": [
    {
     "data": {
      "text/plain": [
       "Index(['Administrative', 'Administrative_Duration', 'Informational',\n",
       "       'Informational_Duration', 'ProductRelated', 'ProductRelated_Duration',\n",
       "       'BounceRates', 'ExitRates', 'PageValues', 'SpecialDay',\n",
       "       'OperatingSystems', 'Browser', 'Region', 'TrafficType', 'Weekend',\n",
       "       'Revenue'],\n",
       "      dtype='object')"
      ]
     },
     "execution_count": 190,
     "metadata": {},
     "output_type": "execute_result"
    }
   ],
   "source": [
    "dt.columns"
   ]
  },
  {
   "cell_type": "code",
   "execution_count": 192,
   "metadata": {},
   "outputs": [
    {
     "data": {
      "image/png": "[encoded data removed]",
      "text/plain": [
       "<Figure size 432x288 with 1 Axes>"
      ]
     },
     "metadata": {
      "needs_background": "light"
     },
     "output_type": "display_data"
    }
   ],
   "source": [
    "dt=dt\n",
    "plt.scatter(dt['ProductRelated_Duration'],dt['ProductRelated'])\n",
    "plt.xlabel(\"ProductRelated_Duration\")\n",
    "plt.ylabel(\"ProductRelated\")\n",
    "plt.show()"
   ]
  },
  {
   "cell_type": "code",
   "execution_count": 146,
   "metadata": {},
   "outputs": [
    {
     "data": {
      "text/plain": [
       "<matplotlib.axes._subplots.AxesSubplot at 0x20377170f28>"
      ]
     },
     "execution_count": 146,
     "metadata": {},
     "output_type": "execute_result"
    },
    {
     "data": {
      "image/png": "[encoded data removed]",
      "text/plain": [
       "<Figure size 432x288 with 1 Axes>"
      ]
     },
     "metadata": {
      "needs_background": "light"
     },
     "output_type": "display_data"
    }
   ],
   "source": [
    "sns.countplot(data=dt, x=\"Revenue\", hue=\"Weekend\", palette=\"bwr\")"
   ]
  },
  {
   "cell_type": "code",
   "execution_count": 147,
   "metadata": {},
   "outputs": [
    {
     "data": {
      "image/png": "[encoded data removed]",
      "text/plain": [
       "<Figure size 432x288 with 1 Axes>"
      ]
     },
     "metadata": {
      "needs_background": "light"
     },
     "output_type": "display_data"
    }
   ],
   "source": [
    "dt=dt\n",
    "plt.scatter(dt['OperatingSystems'],dt['Browser'])\n",
    "plt.xlabel(\"OperatingSystems\")\n",
    "plt.ylabel(\"Browser\")\n",
    "plt.show()"
   ]
  },
  {
   "cell_type": "code",
   "execution_count": null,
   "metadata": {},
   "outputs": [],
   "source": []
  },
  {
   "cell_type": "code",
   "execution_count": 148,
   "metadata": {
    "scrolled": true
   },
   "outputs": [
    {
     "name": "stdout",
     "output_type": "stream",
     "text": [
      "       Administrative  Administrative_Duration  Informational  \\\n",
      "0                 0.0                 0.000000            0.0   \n",
      "1                 0.0                 0.000000            0.0   \n",
      "2                 0.0                 0.000000            0.0   \n",
      "3                 0.0                 0.000000            0.0   \n",
      "4                 0.0                 0.000000            0.0   \n",
      "5                 0.0                 0.000000            0.0   \n",
      "6                 0.0                 0.000000            0.0   \n",
      "7                 1.0                 0.000000            0.0   \n",
      "8                 0.0                 0.000000            0.0   \n",
      "9                 0.0                 0.000000            0.0   \n",
      "10                0.0                 0.000000            0.0   \n",
      "11                0.0                 0.000000            0.0   \n",
      "12                0.0                 0.000000            0.0   \n",
      "13                0.0                 0.000000            0.0   \n",
      "14                0.0                 0.000000            0.0   \n",
      "15                2.0                53.000000            0.0   \n",
      "16                0.0                 0.000000            0.0   \n",
      "17                0.0                 0.000000            0.0   \n",
      "18                0.0                 0.000000            0.0   \n",
      "19                0.0                 0.000000            0.0   \n",
      "20                0.0                 0.000000            0.0   \n",
      "21                0.0                 0.000000            0.0   \n",
      "22                0.0                 0.000000            0.0   \n",
      "23                0.0                 0.000000            0.0   \n",
      "24                0.0                 0.000000            0.0   \n",
      "25                0.0                 0.000000            0.0   \n",
      "26                4.0                64.600000            0.0   \n",
      "27                0.0                 0.000000            0.0   \n",
      "28                0.0                 0.000000            0.0   \n",
      "29                1.0                 6.000000            1.0   \n",
      "...               ...                      ...            ...   \n",
      "12301             0.0                 0.000000            0.0   \n",
      "12302             0.0                 0.000000            0.0   \n",
      "12303             0.0                 0.000000            0.0   \n",
      "12304             0.0                 0.000000            0.0   \n",
      "12305             0.0                 0.000000            0.0   \n",
      "12306             0.0                 0.000000            0.0   \n",
      "12307             2.0               305.125000            3.0   \n",
      "12308             1.0                19.000000            0.0   \n",
      "12309             3.0                54.000000            0.0   \n",
      "12310             1.0                 5.000000            0.0   \n",
      "12311             1.0                 0.000000            2.0   \n",
      "12312             7.0               150.357143            1.0   \n",
      "12313             3.0                16.000000            3.0   \n",
      "12314             0.0                 0.000000            0.0   \n",
      "12315             0.0                 0.000000            0.0   \n",
      "12316             0.0                 0.000000            0.0   \n",
      "12317             3.0               100.500000            0.0   \n",
      "12318             0.0                 0.000000            0.0   \n",
      "12319             0.0                 0.000000            0.0   \n",
      "12320             0.0                 0.000000            0.0   \n",
      "12321             0.0                 0.000000            0.0   \n",
      "12322             6.0                76.250000            0.0   \n",
      "12323             2.0                64.750000            0.0   \n",
      "12324             0.0                 0.000000            1.0   \n",
      "12325             3.0               145.000000            0.0   \n",
      "12326             0.0                 0.000000            0.0   \n",
      "12327             0.0                 0.000000            0.0   \n",
      "12328             4.0                75.000000            0.0   \n",
      "12329             0.0                 0.000000            0.0   \n",
      "Sum           28546.0            996493.467950         6209.0   \n",
      "\n",
      "       Informational_Duration  ProductRelated  ProductRelated_Duration  \\\n",
      "0                    0.000000             1.0             0.000000e+00   \n",
      "1                    0.000000             2.0             6.400000e+01   \n",
      "2                    0.000000             1.0             0.000000e+00   \n",
      "3                    0.000000             2.0             2.666667e+00   \n",
      "4                    0.000000            10.0             6.275000e+02   \n",
      "5                    0.000000            19.0             1.542167e+02   \n",
      "6                    0.000000             1.0             0.000000e+00   \n",
      "7                    0.000000             0.0             0.000000e+00   \n",
      "8                    0.000000             2.0             3.700000e+01   \n",
      "9                    0.000000             3.0             7.380000e+02   \n",
      "10                   0.000000             3.0             3.950000e+02   \n",
      "11                   0.000000            16.0             4.077500e+02   \n",
      "12                   0.000000             7.0             2.805000e+02   \n",
      "13                   0.000000             6.0             9.800000e+01   \n",
      "14                   0.000000             2.0             6.800000e+01   \n",
      "15                   0.000000            23.0             1.668285e+03   \n",
      "16                   0.000000             1.0             0.000000e+00   \n",
      "17                   0.000000            13.0             3.349667e+02   \n",
      "18                   0.000000             2.0             3.200000e+01   \n",
      "19                   0.000000            20.0             2.981167e+03   \n",
      "20                   0.000000             8.0             1.361667e+02   \n",
      "21                   0.000000             2.0             0.000000e+00   \n",
      "22                   0.000000             3.0             1.050000e+02   \n",
      "23                   0.000000             2.0             1.500000e+01   \n",
      "24                   0.000000             1.0             0.000000e+00   \n",
      "25                   0.000000             5.0             1.560000e+02   \n",
      "26                   0.000000            32.0             1.135444e+03   \n",
      "27                   0.000000             4.0             7.600000e+01   \n",
      "28                   0.000000             4.0             6.300000e+01   \n",
      "29                   0.000000            45.0             1.582750e+03   \n",
      "...                       ...             ...                      ...   \n",
      "12301                0.000000             2.0             0.000000e+00   \n",
      "12302                0.000000            22.0             1.852500e+02   \n",
      "12303                0.000000             3.0             1.720000e+02   \n",
      "12304                0.000000            30.0             6.555429e+02   \n",
      "12305                0.000000            39.0             1.168620e+03   \n",
      "12306                0.000000            13.0             1.041750e+03   \n",
      "12307              368.250000            27.0             1.121250e+03   \n",
      "12308                0.000000            45.0             4.018450e+03   \n",
      "12309                0.000000            20.0             2.629000e+02   \n",
      "12310                0.000000            21.0             4.110833e+02   \n",
      "12311              211.250000           144.0             4.627490e+03   \n",
      "12312                9.000000           221.0             1.143100e+04   \n",
      "12313               86.000000            15.0             2.773500e+03   \n",
      "12314                0.000000             7.0             7.058333e+02   \n",
      "12315                0.000000             7.0             2.125000e+02   \n",
      "12316                0.000000            44.0             6.150000e+02   \n",
      "12317                0.000000            95.0             1.453641e+03   \n",
      "12318                0.000000             6.0             2.790000e+02   \n",
      "12319                0.000000            21.0             1.128583e+03   \n",
      "12320                0.000000             8.0             1.435833e+02   \n",
      "12321                0.000000             6.0             0.000000e+00   \n",
      "12322                0.000000            22.0             1.075250e+03   \n",
      "12323                0.000000            44.0             1.157976e+03   \n",
      "12324                0.000000            16.0             5.030000e+02   \n",
      "12325                0.000000            53.0             1.783792e+03   \n",
      "12326                0.000000             5.0             4.657500e+02   \n",
      "12327                0.000000             6.0             1.842500e+02   \n",
      "12328                0.000000            15.0             3.460000e+02   \n",
      "12329                0.000000             3.0             2.125000e+01   \n",
      "Sum             425044.666449        391249.0             1.473122e+07   \n",
      "\n",
      "       BounceRates   ExitRates    PageValues  SpecialDay  OperatingSystems  \\\n",
      "0         0.200000    0.200000      0.000000         0.0               1.0   \n",
      "1         0.000000    0.100000      0.000000         0.0               2.0   \n",
      "2         0.200000    0.200000      0.000000         0.0               4.0   \n",
      "3         0.050000    0.140000      0.000000         0.0               3.0   \n",
      "4         0.020000    0.050000      0.000000         0.0               3.0   \n",
      "5         0.015789    0.024561      0.000000         0.0               2.0   \n",
      "6         0.200000    0.200000      0.000000         0.4               2.0   \n",
      "7         0.200000    0.200000      0.000000         0.0               1.0   \n",
      "8         0.000000    0.100000      0.000000         0.8               2.0   \n",
      "9         0.000000    0.022222      0.000000         0.4               2.0   \n",
      "10        0.000000    0.066667      0.000000         0.0               1.0   \n",
      "11        0.018750    0.025833      0.000000         0.4               1.0   \n",
      "12        0.000000    0.028571      0.000000         0.0               1.0   \n",
      "13        0.000000    0.066667      0.000000         0.0               2.0   \n",
      "14        0.000000    0.100000      0.000000         0.0               3.0   \n",
      "15        0.008333    0.016313      0.000000         0.0               1.0   \n",
      "16        0.200000    0.200000      0.000000         0.0               1.0   \n",
      "17        0.000000    0.007692      0.000000         0.0               1.0   \n",
      "18        0.000000    0.100000      0.000000         0.0               2.0   \n",
      "19        0.000000    0.010000      0.000000         0.0               2.0   \n",
      "20        0.000000    0.008333      0.000000         1.0               2.0   \n",
      "21        0.200000    0.200000      0.000000         0.0               3.0   \n",
      "22        0.000000    0.033333      0.000000         0.0               3.0   \n",
      "23        0.000000    0.100000      0.000000         0.8               2.0   \n",
      "24        0.200000    0.200000      0.000000         0.0               2.0   \n",
      "25        0.000000    0.040000      0.000000         0.0               1.0   \n",
      "26        0.002857    0.009524      0.000000         0.0               2.0   \n",
      "27        0.050000    0.100000      0.000000         0.0               1.0   \n",
      "28        0.000000    0.050000      0.000000         0.2               2.0   \n",
      "29        0.043478    0.050821     54.179764         0.4               3.0   \n",
      "...            ...         ...           ...         ...               ...   \n",
      "12301     0.200000    0.200000      0.000000         0.0               1.0   \n",
      "12302     0.021212    0.075758      0.000000         0.0               2.0   \n",
      "12303     0.000000    0.066667      0.000000         0.0               2.0   \n",
      "12304     0.006667    0.019667      0.000000         0.0               3.0   \n",
      "12305     0.000000    0.009064      0.000000         0.0               1.0   \n",
      "12306     0.018182    0.027273      0.000000         0.0               2.0   \n",
      "12307     0.020000    0.042857     39.519807         0.0               3.0   \n",
      "12308     0.009091    0.021970      0.000000         0.0               2.0   \n",
      "12309     0.008333    0.055556      0.000000         0.0               2.0   \n",
      "12310     0.015789    0.016140      0.000000         0.0               3.0   \n",
      "12311     0.001361    0.020664      0.000000         0.0               2.0   \n",
      "12312     0.011149    0.021904      1.582473         0.0               2.0   \n",
      "12313     0.000000    0.030000     78.811725         0.0               2.0   \n",
      "12314     0.028571    0.085714      0.000000         0.0               5.0   \n",
      "12315     0.000000    0.033333      0.000000         0.0               3.0   \n",
      "12316     0.013636    0.036364      0.000000         0.0               4.0   \n",
      "12317     0.002105    0.012761      0.000000         0.0               2.0   \n",
      "12318     0.000000    0.033333      0.000000         0.0               1.0   \n",
      "12319     0.000000    0.013043      3.685401         0.0               2.0   \n",
      "12320     0.014286    0.050000      0.000000         0.0               2.0   \n",
      "12321     0.200000    0.200000      0.000000         0.0               1.0   \n",
      "12322     0.000000    0.004167      0.000000         0.0               2.0   \n",
      "12323     0.000000    0.013953      0.000000         0.0               2.0   \n",
      "12324     0.000000    0.037647      0.000000         0.0               2.0   \n",
      "12325     0.007143    0.029031     12.241717         0.0               4.0   \n",
      "12326     0.000000    0.021333      0.000000         0.0               3.0   \n",
      "12327     0.083333    0.086667      0.000000         0.0               3.0   \n",
      "12328     0.000000    0.021053      0.000000         0.0               2.0   \n",
      "12329     0.000000    0.066667      0.000000         0.0               3.0   \n",
      "Sum     273.619721  531.087596  72614.549447       757.4           26189.0   \n",
      "\n",
      "       Browser   Region  TrafficType  Weekend  Revenue  \n",
      "0          1.0      1.0          1.0      0.0      0.0  \n",
      "1          2.0      1.0          2.0      0.0      0.0  \n",
      "2          1.0      9.0          3.0      0.0      0.0  \n",
      "3          2.0      2.0          4.0      0.0      0.0  \n",
      "4          3.0      1.0          4.0      1.0      0.0  \n",
      "5          2.0      1.0          3.0      0.0      0.0  \n",
      "6          4.0      3.0          3.0      0.0      0.0  \n",
      "7          2.0      1.0          5.0      1.0      0.0  \n",
      "8          2.0      2.0          3.0      0.0      0.0  \n",
      "9          4.0      1.0          2.0      0.0      0.0  \n",
      "10         1.0      3.0          3.0      0.0      0.0  \n",
      "11         1.0      4.0          3.0      0.0      0.0  \n",
      "12         1.0      1.0          3.0      0.0      0.0  \n",
      "13         5.0      1.0          3.0      0.0      0.0  \n",
      "14         2.0      3.0          3.0      0.0      0.0  \n",
      "15         1.0      9.0          3.0      0.0      0.0  \n",
      "16         1.0      4.0          3.0      0.0      0.0  \n",
      "17         1.0      1.0          4.0      1.0      0.0  \n",
      "18         2.0      1.0          3.0      0.0      0.0  \n",
      "19         4.0      4.0          4.0      0.0      0.0  \n",
      "20         2.0      5.0          1.0      1.0      0.0  \n",
      "21         3.0      1.0          3.0      0.0      0.0  \n",
      "22         2.0      1.0          5.0      0.0      0.0  \n",
      "23         4.0      1.0          3.0      0.0      0.0  \n",
      "24         2.0      4.0          1.0      1.0      0.0  \n",
      "25         1.0      9.0          3.0      0.0      0.0  \n",
      "26         2.0      1.0          3.0      0.0      0.0  \n",
      "27         1.0      1.0          3.0      0.0      0.0  \n",
      "28         6.0      1.0          3.0      0.0      0.0  \n",
      "29         2.0      1.0          1.0      0.0      0.0  \n",
      "...        ...      ...          ...      ...      ...  \n",
      "12301      1.0      4.0          1.0      0.0      0.0  \n",
      "12302      7.0      1.0          1.0      1.0      0.0  \n",
      "12303     13.0      9.0         20.0      0.0      0.0  \n",
      "12304      2.0      1.0          2.0      1.0      0.0  \n",
      "12305      1.0      4.0          3.0      0.0      0.0  \n",
      "12306      2.0      5.0          2.0      0.0      0.0  \n",
      "12307      2.0      1.0          2.0      0.0      0.0  \n",
      "12308      2.0      3.0          1.0      1.0      0.0  \n",
      "12309      2.0      1.0          2.0      0.0      0.0  \n",
      "12310      2.0      7.0          3.0      0.0      0.0  \n",
      "12311      2.0      1.0          2.0      0.0      1.0  \n",
      "12312      5.0      1.0          2.0      1.0      1.0  \n",
      "12313      2.0      1.0          2.0      0.0      1.0  \n",
      "12314     11.0      4.0          1.0      1.0      0.0  \n",
      "12315      2.0      1.0         11.0      1.0      0.0  \n",
      "12316      1.0      3.0          1.0      0.0      0.0  \n",
      "12317      2.0      3.0          2.0      0.0      0.0  \n",
      "12318      2.0      3.0         10.0      1.0      0.0  \n",
      "12319      2.0      1.0          2.0      0.0      0.0  \n",
      "12320      2.0      3.0          1.0      0.0      0.0  \n",
      "12321      8.0      4.0          1.0      0.0      0.0  \n",
      "12322      2.0      4.0          2.0      0.0      0.0  \n",
      "12323      2.0      1.0         10.0      0.0      0.0  \n",
      "12324      2.0      1.0          1.0      0.0      0.0  \n",
      "12325      6.0      1.0          1.0      1.0      0.0  \n",
      "12326      2.0      1.0          8.0      1.0      0.0  \n",
      "12327      2.0      1.0         13.0      1.0      0.0  \n",
      "12328      2.0      3.0         11.0      0.0      0.0  \n",
      "12329      2.0      1.0          2.0      1.0      0.0  \n",
      "Sum    29063.0  38807.0      50178.0   2868.0   1908.0  \n",
      "\n",
      "[12331 rows x 16 columns]\n"
     ]
    }
   ],
   "source": [
    "dt.loc['Sum '] = dt.sum()\n",
    "print(dt)"
   ]
  },
  {
   "cell_type": "code",
   "execution_count": 149,
   "metadata": {},
   "outputs": [
    {
     "data": {
      "text/plain": [
       "(12331, 16)"
      ]
     },
     "execution_count": 149,
     "metadata": {},
     "output_type": "execute_result"
    }
   ],
   "source": [
    "dt.shape"
   ]
  },
  {
   "cell_type": "code",
   "execution_count": 150,
   "metadata": {},
   "outputs": [
    {
     "name": "stdout",
     "output_type": "stream",
     "text": [
      "212.36620175154073\n",
      "235.67142393772298\n",
      "190.3503081414207\n",
      "208.79824845929292\n"
     ]
    }
   ],
   "source": [
    "s1=(26189/12332)\n",
    "print(s1*100)\n",
    "s2=(29063/12332)\n",
    "print(s2*100)\n",
    "s3=(23474/12332)\n",
    "print(s3*100)\n",
    "s4=(25749/12332)\n",
    "print(s4*100)"
   ]
  },
  {
   "cell_type": "code",
   "execution_count": 151,
   "metadata": {},
   "outputs": [
    {
     "data": {
      "image/png": "[encoded data removed]",
      "text/plain": [
       "<Figure size 432x288 with 1 Axes>"
      ]
     },
     "metadata": {},
     "output_type": "display_data"
    }
   ],
   "source": [
    "labels = 'OperatingSystems', 'Browser', 'Region', 'TrafficType'\n",
    "sizes = [s1,s2,s3,s4]\n",
    "colors = ['gold', 'yellowgreen', 'lightcoral', 'lightskyblue']\n",
    "explode = (0.1, 0, 0, 0)  # explode 1st slice\n",
    "\n",
    "# Plot\n",
    "plt.pie(sizes, explode=explode, labels=labels, colors=colors,\n",
    "autopct='%1.1f%%', shadow=True, startangle=140)\n",
    "\n",
    "plt.axis('equal')\n",
    "plt.show()"
   ]
  },
  {
   "cell_type": "code",
   "execution_count": 165,
   "metadata": {},
   "outputs": [],
   "source": [
    "X=dt.drop([\"Revenue\"],axis=1)\n",
    "y=dt.Revenue"
   ]
  },
  {
   "cell_type": "code",
   "execution_count": 175,
   "metadata": {},
   "outputs": [],
   "source": [
    "from sklearn.model_selection import train_test_split\n",
    "X_train, X_test, y_train, y_test = train_test_split(X,y,test_size=0.2,random_state=1)"
   ]
  },
  {
   "cell_type": "code",
   "execution_count": 176,
   "metadata": {},
   "outputs": [],
   "source": [
    "from sklearn.linear_model import LogisticRegression"
   ]
  },
  {
   "cell_type": "code",
   "execution_count": 177,
   "metadata": {},
   "outputs": [
    {
     "name": "stderr",
     "output_type": "stream",
     "text": [
      "C:\\Users\\ARSHAD\\Anaconda3\\lib\\site-packages\\sklearn\\linear_model\\logistic.py:432: FutureWarning: Default solver will be changed to 'lbfgs' in 0.22. Specify a solver to silence this warning.\n",
      "  FutureWarning)\n",
      "C:\\Users\\ARSHAD\\Anaconda3\\lib\\site-packages\\sklearn\\linear_model\\logistic.py:469: FutureWarning: Default multi_class will be changed to 'auto' in 0.22. Specify the multi_class option to silence this warning.\n",
      "  \"this warning.\", FutureWarning)\n",
      "C:\\Users\\ARSHAD\\Anaconda3\\lib\\site-packages\\sklearn\\svm\\base.py:929: ConvergenceWarning: Liblinear failed to converge, increase the number of iterations.\n",
      "  \"the number of iterations.\", ConvergenceWarning)\n"
     ]
    },
    {
     "data": {
      "text/plain": [
       "LogisticRegression(C=1.0, class_weight=None, dual=False, fit_intercept=True,\n",
       "                   intercept_scaling=1, l1_ratio=None, max_iter=100,\n",
       "                   multi_class='warn', n_jobs=None, penalty='l2',\n",
       "                   random_state=None, solver='warn', tol=0.0001, verbose=0,\n",
       "                   warm_start=False)"
      ]
     },
     "execution_count": 177,
     "metadata": {},
     "output_type": "execute_result"
    }
   ],
   "source": [
    "model=LogisticRegression()\n",
    "model.fit(X_train,y_train)"
   ]
  },
  {
   "cell_type": "code",
   "execution_count": 178,
   "metadata": {},
   "outputs": [],
   "source": [
    "predictions=model.predict(X_test)"
   ]
  },
  {
   "cell_type": "code",
   "execution_count": 179,
   "metadata": {},
   "outputs": [],
   "source": [
    "from sklearn.metrics import classification_report"
   ]
  },
  {
   "cell_type": "code",
   "execution_count": 180,
   "metadata": {},
   "outputs": [
    {
     "name": "stderr",
     "output_type": "stream",
     "text": [
      "C:\\Users\\ARSHAD\\Anaconda3\\lib\\site-packages\\sklearn\\metrics\\classification.py:1439: UndefinedMetricWarning: Recall and F-score are ill-defined and being set to 0.0 in labels with no true samples.\n",
      "  'recall', 'true', average, warn_for)\n"
     ]
    },
    {
     "data": {
      "text/plain": [
       "'              precision    recall  f1-score   support\\n\\n         0.0       0.94      0.93      0.94      2112\\n         1.0       0.71      0.36      0.48       355\\n      1908.0       0.00      0.00      0.00         0\\n\\n    accuracy                           0.85      2467\\n   macro avg       0.55      0.43      0.47      2467\\nweighted avg       0.91      0.85      0.87      2467\\n'"
      ]
     },
     "execution_count": 180,
     "metadata": {},
     "output_type": "execute_result"
    }
   ],
   "source": [
    "classification_report(y_test,predictions)"
   ]
  },
  {
   "cell_type": "code",
   "execution_count": 181,
   "metadata": {},
   "outputs": [
    {
     "data": {
      "text/plain": [
       "array([[1971,   52,   89],\n",
       "       [ 129,  128,   98],\n",
       "       [   0,    0,    0]], dtype=int64)"
      ]
     },
     "execution_count": 181,
     "metadata": {},
     "output_type": "execute_result"
    }
   ],
   "source": [
    "from sklearn.metrics import confusion_matrix\n",
    "confusion_matrix(y_test,predictions)"
   ]
  },
  {
   "cell_type": "code",
   "execution_count": 182,
   "metadata": {},
   "outputs": [],
   "source": [
    "from sklearn.metrics import accuracy_score"
   ]
  },
  {
   "cell_type": "code",
   "execution_count": 183,
   "metadata": {},
   "outputs": [
    {
     "data": {
      "text/plain": [
       "0.8508309687880016"
      ]
     },
     "execution_count": 183,
     "metadata": {},
     "output_type": "execute_result"
    }
   ],
   "source": [
    "accuracy_score(y_test,predictions)"
   ]
  },
  {
   "cell_type": "code",
   "execution_count": null,
   "metadata": {},
   "outputs": [],
   "source": []
  }
 ],
 "metadata": {
  "kernelspec": {
   "display_name": "Python 3",
   "language": "python",
   "name": "python3"
  },
  "language_info": {
   "codemirror_mode": {
    "name": "ipython",
    "version": 3
   },
   "file_extension": ".py",
   "mimetype": "text/x-python",
   "name": "python",
   "nbconvert_exporter": "python",
   "pygments_lexer": "ipython3",
   "version": "3.7.3"
  }
 },
 "nbformat": 4,
 "nbformat_minor": 2
}
